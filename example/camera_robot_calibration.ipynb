{
 "cells": [
  {
   "cell_type": "code",
   "execution_count": 1,
   "id": "ab8ec9cd",
   "metadata": {},
   "outputs": [],
   "source": [
    "%matplotlib widget\n",
    "from dorna_vision import util, draw\n",
    "import matplotlib.pyplot as plt\n",
    "from camera import Camera\n",
    "from dorna2 import Dorna, Kinematic\n",
    "import cv2\n",
    "import numpy as np\n",
    "import itertools\n",
    "from scipy.optimize import minimize\n"
   ]
  },
  {
   "cell_type": "code",
   "execution_count": null,
   "id": "f6c2ebec-7723-4ea1-bec3-d9ed94c364c5",
   "metadata": {},
   "outputs": [],
   "source": [
    "\"\"\"\n",
    "System parameters\n",
    "\"\"\"\n",
    "# robot\n",
    "robot_ip = \"192.168.254.30\"# robot ip address \n",
    "robot_model = \"dorna_ta\"\n",
    "\n",
    "# aruco\n",
    "aruco_id = 17\n",
    "marker_length=24 # mm\n",
    "dictionary=\"DICT_4X4_100\"\n",
    "refine=\"CORNER_REFINE_APRILTAG\"\n",
    "coordinate=\"CCW\"\n",
    "subpix=False\n",
    "\n",
    "# search area\n",
    "deviations = np.array(list(itertools.product([-10, 10], [-10, 10], [-10, 10], [-10, 10], [-10, 10],[0])))\n",
    "\n",
    "# collected data\n",
    "collected_data = []"
   ]
  },
  {
   "cell_type": "code",
   "execution_count": 4,
   "id": "7dd05259",
   "metadata": {},
   "outputs": [
    {
     "data": {
      "text/plain": [
       "2.0"
      ]
     },
     "execution_count": 4,
     "metadata": {},
     "output_type": "execute_result"
    }
   ],
   "source": [
    "\"\"\"\n",
    "helper functions\n",
    "\"\"\"\n",
    "# euler to transformation matrix\n",
    "def Euler_matrix(abg,xyz):\n",
    "    cv0 = np.cos(abg[0])\n",
    "    sv0 = np.sin(abg[0])\n",
    "    cv1 = np.cos(abg[1])\n",
    "    sv1 = np.sin(abg[1])\n",
    "    cv2 = np.cos(abg[2])\n",
    "    sv2 = np.sin(abg[2])\n",
    "    return np.matrix([\n",
    "        [cv1* cv0   , sv2*sv1*cv0 - cv2*sv0 , cv2*sv1*cv0 - sv2*sv0 , xyz[0]  ],\n",
    "        [cv1 * sv0  , sv2*sv1*sv0 + cv2*cv0 , cv2*sv1*sv0 + sv2*cv0 , xyz[1]  ],\n",
    "        [-sv1       , sv2*cv1               , cv2*cv1               , xyz[2]  ],\n",
    "        [0,0,0,1]])\n",
    "\n",
    "\n",
    "def likelihood(p, joints_list, t_target_2_cam_list, kinematic, centroid=None):\n",
    "    T_cam_2_j4 = Euler_matrix([p[3],p[4],p[5]],[p[0],p[1],p[2]])\n",
    "    v =[]\n",
    "    for i in range(len(joints)):\n",
    "        g = np.matmul(np.matmul(kinematic.Ti_r_world(i=5, joint=joint_list[i]),np.matrix(T_cam_2_j4)), np.vstack((t_target_2_cam_list[i], np.array([[1]]))))\n",
    "        v.append([tmp[0,0],tmp[1,0],tmp[2,0]])\n",
    "\n",
    "    if centroid == None:\n",
    "        # pass\n",
    "        \n",
    "    distance = np.linalg.norm([np.linalg.norm(g-centroid) for g in v])\n",
    "    return np.linalg.norm(distance)\n",
    "\n",
    "\n",
    "def minimizer(joints, t_target_2_cam_list, kinematic):\n",
    "\n",
    "    R_j4_2_base_list = []\n",
    "    t_j4_2_base_list = []\n",
    "\n",
    "    for j in joints:\n",
    "        T_j4_2_base = kinematic.Ti_r_world(i=5, joint=j)\n",
    "        R_j4_2_base_list.append(np.array(T_j4_2_base[:3, :3])) \n",
    "        t_j4_2_base_list.append(np.array(T_j4_2_base[:3, 3]) )\n",
    "\n",
    "    data_t = [np.array(d) for d in t_target_2_cam_list]\n",
    "    data_R = []\n",
    "\n",
    "    for r in R_target_2_cam_list:\n",
    "        rotation_matrix = np.zeros(shape=(3,3))\n",
    "        cv2.Rodrigues(r, rotation_matrix)\n",
    "        data_R.append(np.array(rotation_matrix))\n",
    "\n",
    "    #T_cam_2_j4 = np.eye(4)\n",
    "\n",
    "    f = minimize(likelihood, [0,0,0,0,0,0])\n",
    "    \n",
    "    T_cam_2_j4 = Euler_matrix([f.x[3],f.x[4],f.x[5]],[f.x[0],f.x[1],f.x[2]])\n",
    "    \"\"\"\n",
    "    T_cam_2_j4 = np.matrix([[-1,  0,  0,  f.x[0]],\n",
    "                            [0, -1,  0,  f.x[1]],\n",
    "                            [ 0, 0,  1,  f.x[2]],\n",
    "                            [ 0,  0,  0,  1]])\n",
    "    \"\"\"\n",
    "    print(\"final error: \", f.fun)\n",
    "    return T_cam_2_j4\n",
    "\n",
    "\n",
    "def dorna_ta_eye_in_hand_embeded_camera(data, robot, kinematic, camera, joint_deviation, aruco_id, aruco_length, aruco_dic, aruco_refine, aruco_subpix, aruco_coordinate):\n",
    "    # record t_target_2_base\n",
    "    touching = input(\"The robot is touching the aruco marker (Y or N):\")\n",
    "    touching = touching.lower()\n",
    "    \n",
    "    if touching == \"y\":\n",
    "        xyzabc = robot.get_all_pose()\n",
    "        \n",
    "        #go up\n",
    "        robot.set_motor(1)\n",
    "        robot.lmove(rel=1, x=-40, y=30, z=120, vel=100, accel=1000, jerk=2000)\n",
    "        robot.sleep(1)\n",
    "        \n",
    "    \n",
    "    # initial joint\n",
    "    initial_joint = robot.get_all_joint()\n",
    "    target_joint_list = [(initial_joint +  joint).tolist() for joint in joint_deviation]\n",
    "    \n",
    "    # Generate all possible lists of size 5    \n",
    "    for joint in target_joint_list:\n",
    "        for i in rage(1):\n",
    "            robot.jmove(rel=0, vel=50, accel=800, jerk=1000, j0=joint[0], j1=joint[1], j2=joint[2], j3=joint[3], j4=joint[4], j5=joint[5])\n",
    "            robot.sleep(1)\n",
    "    \n",
    "            # capture image\n",
    "            depth_frame, _, _, _, _, color_img, depth_int, _, _= camera.get_all()\n",
    "    \n",
    "            # joint\n",
    "            joint = robot.get_all_joint()\n",
    "            \n",
    "            # search_id pose: [[id, corner, rvec, tvec] for id, corner, rvec, tvec in zip(aruco_id, aruco_corner, rvecs, tvecs)]\n",
    "            aruco_data = util.find_aruco(color_img, camera.camera_matrix(depth_int), camera.dist_coeffs(depth_int), dictionary=aruco_dic, marker_length=aruco_length, refine=aruco_refine, subpix=aruco_subpix, coordinate=aruco_coordinate)\n",
    "            \n",
    "            # find aruco_id\n",
    "            pxl_target_2_cam = []\n",
    "            for val in retval:\n",
    "                if val[0] == aruco_id:\n",
    "                    pxl_target_2_cam = val[1]\n",
    "                    break\n",
    "            \n",
    "            # aruco not found\n",
    "            if not pxl_target_2_cam:\n",
    "                break\n",
    "\n",
    "            # target to camera\n",
    "            xyz_target_2_cam, _ = camera.xyz(pxl_target_2_cam, depth_frame, depth_int)\n",
    "\n",
    "            # append collect data\n",
    "            data.append({\"joint\": joint, \"t_target_2_cam\": xyz_target_2_cam.reshape(-1, 1), \"t_target_2_base\": xyz_target_2_base.reshape(-1, 1)})\n",
    "\n",
    "            # draw aruco\n",
    "            draw.draw_aruco(color_img, aruco_data, camera.camera_matrix(depth_int), camera.dist_coeffs(depth_int))\n",
    "        \n",
    "        # Display the image\n",
    "        fig, ax = plt.subplots(frameon=False)\n",
    "        ax.imshow(cv2.cvtColor(color_img, cv2.COLOR_BGR2RGB))\n",
    "        plt.show()\n",
    "\n",
    "    return data\n"
   ]
  },
  {
   "cell_type": "code",
   "execution_count": 3,
   "id": "74da7e37",
   "metadata": {},
   "outputs": [
    {
     "name": "stdout",
     "output_type": "stream",
     "text": [
      "Camera connected:  True\n",
      "Robot connected:  True\n"
     ]
    }
   ],
   "source": [
    "# camera\n",
    "camera = Camera()\n",
    "print(\"Camera connected: \", camera.connect())\n",
    "\n",
    "# Robot\n",
    "robot = Dorna()\n",
    "print(\"Robot connected: \", robot.connect(robot_ip))\n",
    "\n",
    "# kinematics\n",
    "kinematic = Kinematic(robot_model)\n",
    "\n",
    "# update collected data\n",
    "collected_data += dorna_ta_eye_in_hand_embeded_camera(collected_data, robot, kinematic, camera, charuco_board, joint_list, ground_truth, joint_calibration, file_path)  \n",
    "\n",
    "T_cam_2_j4 = minimizer( joints = data[\"joints\"], \n",
    "                        R_target_2_cam_list = data[\"R_target_2_cam_list\"], \n",
    "                        t_target_2_cam_list = data[\"t_target_2_cam_list\"], \n",
    "                        kinematic = kinematic, \n",
    "                        ground_truth = ground_truth, \n",
    "                        use_rotation = False,\n",
    "                        joint_calibration=joint_calibration)\n",
    "\n",
    "# close the connections\n",
    "camera.close()\n",
    "robot.close()\n",
    "\n",
    "print(T_cam_2_j4)\n"
   ]
  },
  {
   "cell_type": "code",
   "execution_count": 9,
   "id": "57575347-ba35-40ab-a2a9-a0712b0e703e",
   "metadata": {},
   "outputs": [
    {
     "ename": "NameError",
     "evalue": "name 'upper' is not defined",
     "output_type": "error",
     "traceback": [
      "\u001b[1;31m---------------------------------------------------------------------------\u001b[0m",
      "\u001b[1;31mNameError\u001b[0m                                 Traceback (most recent call last)",
      "Cell \u001b[1;32mIn[9], line 1\u001b[0m\n\u001b[1;32m----> 1\u001b[0m \u001b[43mupper\u001b[49m(\u001b[38;5;124m\"\u001b[39m\u001b[38;5;124my\u001b[39m\u001b[38;5;124m\"\u001b[39m)\n",
      "\u001b[1;31mNameError\u001b[0m: name 'upper' is not defined"
     ]
    }
   ],
   "source": [
    "upper(\"y\")"
   ]
  },
  {
   "cell_type": "code",
   "execution_count": 10,
   "id": "c7eb43b3-9cf8-4d86-a3ea-4192745e9749",
   "metadata": {},
   "outputs": [
    {
     "data": {
      "text/plain": [
       "'y'"
      ]
     },
     "execution_count": 10,
     "metadata": {},
     "output_type": "execute_result"
    }
   ],
   "source": [
    "\"y\".lower()"
   ]
  },
  {
   "cell_type": "code",
   "execution_count": null,
   "id": "d4477d60-25a4-4e5f-9864-cc3c80f38acf",
   "metadata": {},
   "outputs": [],
   "source": []
  }
 ],
 "metadata": {
  "kernelspec": {
   "display_name": "Python 3 (ipykernel)",
   "language": "python",
   "name": "python3"
  },
  "language_info": {
   "codemirror_mode": {
    "name": "ipython",
    "version": 3
   },
   "file_extension": ".py",
   "mimetype": "text/x-python",
   "name": "python",
   "nbconvert_exporter": "python",
   "pygments_lexer": "ipython3",
   "version": "3.9.7"
  }
 },
 "nbformat": 4,
 "nbformat_minor": 5
}
